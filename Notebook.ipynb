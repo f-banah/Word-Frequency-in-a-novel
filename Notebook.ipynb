{
 "cells": [
  {
   "cell_type": "code",
   "execution_count": 1,
   "id": "c1b8ac0d",
   "metadata": {},
   "outputs": [],
   "source": [
    "import requests\n",
    "from bs4 import BeautifulSoup\n",
    "import nltk"
   ]
  },
  {
   "cell_type": "code",
   "execution_count": 2,
   "id": "bc4d7c83",
   "metadata": {},
   "outputs": [
    {
     "name": "stdout",
     "output_type": "stream",
     "text": [
      "<?xml version=\"1.0\" encoding=\"utf-8\"?>\r\n",
      "\r\n",
      "<!DOCTYPE html\r\n",
      "   PUBLIC \"-//W3C//DTD XHTML 1.0 Strict//EN\"\r\n",
      "   \"http://www.w3.org/TR/xhtml1/DTD/xhtml1-strict.dtd\" >\r\n",
      "\r\n",
      "<html xmlns=\"http://www.w3.org/1999/xhtml\" lang=\"en\">\r\n",
      "  <head>\r\n",
      "    <title>\r\n",
      "      Moby Dick; Or the Whale, by Herman Melville\r\n",
      "    </title>\r\n",
      "    <style type=\"text/css\" xml:space=\"preserve\">\r\n",
      "\r\n",
      "    body { background:#faebd0; color:black; margin-left:15%; margin-right:15%; text-align:justify }\r\n",
      "    P { text-indent: 1em; margin-top: .25em; margin-bottom: .25em; }\r\n",
      "    H1,H2,H3,H4,H5,H6 { text-align: center; margin-left: 15%; margin-right: 15%; }\r\n",
      "    hr  { width: 50%; text-align: center;}\r\n",
      "    .foot { margin-left: 20%; margin-right: 20%; text-align: justify; text-indent: -3em; font-size: 90%; }\r\n",
      "    blockquote {font-size: 100%; margin-left: 0%; margin-right: 0%;}\r\n",
      "    .mynote    {background-color: #DDE; color: #000; padding: .5em; margin-left: 10%; margin-right: 10%; font-family: sans-serif; font-size: 95%;}\r\n",
      "    .toc       { margin-left: 10%; margin-bottom: .75em;}\r\n",
      "    .toc2      { margin-left: 20%;}\r\n",
      "    div.fig    { display:block; margin:0 auto; text-align:center; }\r\n",
      "    div.middle { margin-left: 20%; margin-right: 20%; text-align: justify; }\r\n",
      "    .figleft   {float: left; margin-left: 0%; margin-right: 1%;}\r\n",
      "    .figright  {float: right; margin-right: 0%; margin-left: 1%;}\r\n",
      "    .pagenum   {display:inline; font-size: 70%; font-style:normal;\r\n",
      "               margin: 0; padding: 0; position: absolute; right: 1%;\r\n",
      "               text-align: right;}\r\n",
      "    pre        { font-family: times new roman; font-size: 100%; margin-left: 10%;}\r\n",
      "\r\n",
      "    table      {margin-left: 10%;}\r\n",
      "\r\n",
      "a:link {color:blue;\r\n",
      "\t\ttext-decoration:none}\r\n",
      "link {color:blue;\r\n",
      "\t\ttext-decoration:none}\r\n",
      "a:visited {color:blue;\r\n",
      "\t\ttext-decoration:none}\r\n",
      "a:hover {color:red}\r\n",
      "\r\n",
      "</style>\r\n",
      "  </head>\r\n",
      "  <body>\r\n",
      "<pre xml:space=\"preserve\">\r\n",
      "\r\n",
      "The Project Gutenberg EBook of Moby Dick; or The Whale, by Herman Melville\r\n",
      "\r\n",
      "This eBook is for the use of anyone anywh\n"
     ]
    }
   ],
   "source": [
    "# Getting the Moby Dick HTML \n",
    "r = requests.get('https://s3.amazonaws.com/assets.datacamp.com/production/project_147/datasets/2701-h.htm')\n",
    "\n",
    "# Setting the correct text encoding of the HTML page\n",
    "r.encoding = 'utf-8'\n",
    "\n",
    "# Extracting the HTML from the request object\n",
    "html = r.text\n",
    "\n",
    "# Printing the first 2000 characters in html\n",
    "print(html[:2000])"
   ]
  },
  {
   "cell_type": "code",
   "execution_count": 3,
   "id": "6693f7f8",
   "metadata": {},
   "outputs": [
    {
     "name": "stdout",
     "output_type": "stream",
     "text": [
      "t me\r\n",
      "      from deliberately stepping into the street, and methodically knocking\r\n",
      "      people’s hats off—then, I account it high time to get to sea as soon\r\n",
      "      as I can. This is my substitute for pistol and ball. With a philosophical\r\n",
      "      flourish Cato throws himself upon his sword; I quietly take to the ship.\r\n",
      "      There is nothing surprising in this. If they but knew it, almost all men\r\n",
      "      in their degree, some time or other, cherish very nearly the same feelings\r\n",
      "      towards the ocean with me.\r\n",
      "    \n",
      "\r\n",
      "      There now is your insular city of the Manhattoes, belted round by wharves\r\n",
      "      as Indian isles by coral reefs—commerce surrounds it with her surf.\r\n",
      "      Right and left, the streets take you waterward. Its extreme downtown is\r\n",
      "      the battery, where that noble mole is washed by waves, and cooled by\r\n",
      "      breezes, which a few hours previous were out of sight of land. Look at the\r\n",
      "      crowds of water-gazers there.\r\n",
      "    \n",
      "\r\n",
      "      Circumambulate the city of a dreamy Sabbath afternoon. Go from Corlears\r\n",
      "      Hook to Coenties Slip, and from thence, by Whitehall, northward. What do\r\n",
      "      you see?—Posted like silent sentinels all around the town, stand\r\n",
      "      thousands upon thousands of mortal men fixed in ocean reveries. Some\r\n",
      "      leaning against the spiles; some seated upon the pier-heads; some looking\r\n",
      "      over the bulwarks of ships from China; some high aloft in the rigging, as\r\n",
      "      if striving to get a still better seaward peep. But these are all\r\n",
      "      landsmen; of week days pent up in lath and plaster—tied to counters,\r\n",
      "      nailed to benches, clinched to desks. How then is this? Are the green\r\n",
      "      fields gone? What do they here?\r\n",
      "    \n",
      "\r\n",
      "      But look! here come more crowds, pacing straight for the water, and\r\n",
      "      seemingly bound for a dive. Strange! Nothing will content them but the\r\n",
      "      extremest limit of the land; loitering under the shady lee of yonder\r\n",
      "      warehouses will not suffice. No. They must get just as nigh the \n"
     ]
    }
   ],
   "source": [
    "# Creating a BeautifulSoup object from the HTML\n",
    "soup = BeautifulSoup(html)\n",
    "\n",
    "# Getting the text out of the soup\n",
    "text = soup.get_text()\n",
    "\n",
    "# Printing out text between characters 32000 and 34000\n",
    "print(text[32000: 34000])"
   ]
  },
  {
   "cell_type": "code",
   "execution_count": 4,
   "id": "628db19b",
   "metadata": {},
   "outputs": [
    {
     "name": "stdout",
     "output_type": "stream",
     "text": [
      "['Moby', 'Dick', 'Or', 'the', 'Whale', 'by', 'Herman', 'Melville']\n"
     ]
    }
   ],
   "source": [
    "# Creating a tokenizer\n",
    "tokenizer = nltk.tokenize.RegexpTokenizer('\\w+')\n",
    "\n",
    "# Tokenizing the text\n",
    "tokens = tokenizer.tokenize(text)\n",
    "\n",
    "# Printing out the first 8 words / tokens \n",
    "print(tokens[:8])"
   ]
  },
  {
   "cell_type": "code",
   "execution_count": 5,
   "id": "9c552efa",
   "metadata": {},
   "outputs": [
    {
     "name": "stdout",
     "output_type": "stream",
     "text": [
      "['moby', 'dick', 'or', 'the', 'whale', 'by', 'herman', 'melville']\n"
     ]
    }
   ],
   "source": [
    "# A new list to hold the lowercased words\n",
    "words = []\n",
    "\n",
    "# Looping through the tokens and make them lower case\n",
    "for word in tokens:\n",
    "    words.append(word.lower())\n",
    "\n",
    "# Printing out the first 8 words / tokens \n",
    "print(words[:8])"
   ]
  },
  {
   "cell_type": "code",
   "execution_count": 18,
   "id": "752cd891",
   "metadata": {},
   "outputs": [
    {
     "name": "stdout",
     "output_type": "stream",
     "text": [
      "['i', 'me', 'my', 'myself', 'we', 'our', 'ours', 'ourselves']\n"
     ]
    },
    {
     "name": "stderr",
     "output_type": "stream",
     "text": [
      "[nltk_data] Downloading package stopwords to\n",
      "[nltk_data]     C:\\Users\\hp\\AppData\\Roaming\\nltk_data...\n",
      "[nltk_data]   Package stopwords is already up-to-date!\n"
     ]
    }
   ],
   "source": [
    "# Getting the English stop words from nltk\n",
    "nltk.download('stopwords')\n",
    "sw = nltk.corpus.stopwords.words('english')\n",
    "\n",
    "# Printing out the first eight stop words\n",
    "print(sw[:8])"
   ]
  },
  {
   "cell_type": "code",
   "execution_count": 15,
   "id": "6490145a",
   "metadata": {},
   "outputs": [
    {
     "name": "stdout",
     "output_type": "stream",
     "text": [
      "['moby', 'dick', 'whale', 'herman', 'melville']\n"
     ]
    }
   ],
   "source": [
    "# A new list to hold Moby Dick with No Stop words\n",
    "words_ns = []\n",
    "\n",
    "# Appending to words_ns all words that are in words but not in sw\n",
    "for word in words:\n",
    "    if word not in sw:\n",
    "        words_ns.append(word)\n",
    "\n",
    "# Printing the first 5 words_ns to check that stop words are gone\n",
    "print(words_ns[:5])"
   ]
  },
  {
   "cell_type": "code",
   "execution_count": 16,
   "id": "22580203",
   "metadata": {},
   "outputs": [
    {
     "data": {
      "image/png": "[encoded data removed]",
      "text/plain": [
       "<Figure size 432x288 with 1 Axes>"
      ]
     },
     "metadata": {
      "needs_background": "light"
     },
     "output_type": "display_data"
    },
    {
     "data": {
      "text/plain": [
       "<AxesSubplot:xlabel='Samples', ylabel='Counts'>"
      ]
     },
     "execution_count": 16,
     "metadata": {},
     "output_type": "execute_result"
    }
   ],
   "source": [
    "# This command display figures inline\n",
    "%matplotlib inline\n",
    "\n",
    "# Creating the word frequency distribution\n",
    "freqdist = nltk.FreqDist(words_ns)\n",
    "\n",
    "# Plotting the word frequency distribution\n",
    "freqdist.plot(25)"
   ]
  },
  {
   "cell_type": "code",
   "execution_count": 17,
   "id": "faf5544f",
   "metadata": {},
   "outputs": [],
   "source": [
    "# What's the most common word in Moby Dick?\n",
    "most_common_word = 'whale'"
   ]
  },
  {
   "cell_type": "code",
   "execution_count": null,
   "id": "9b64cc73",
   "metadata": {},
   "outputs": [],
   "source": []
  }
 ],
 "metadata": {
  "kernelspec": {
   "display_name": "Python 3 (ipykernel)",
   "language": "python",
   "name": "python3"
  },
  "language_info": {
   "codemirror_mode": {
    "name": "ipython",
    "version": 3
   },
   "file_extension": ".py",
   "mimetype": "text/x-python",
   "name": "python",
   "nbconvert_exporter": "python",
   "pygments_lexer": "ipython3",
   "version": "3.9.7"
  }
 },
 "nbformat": 4,
 "nbformat_minor": 5
}
